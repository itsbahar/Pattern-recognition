{
 "cells": [
  {
   "cell_type": "code",
   "execution_count": 97,
   "id": "fdaae912",
   "metadata": {},
   "outputs": [],
   "source": [
    "import pandas as pd\n",
    "import numpy as np\n",
    "import math"
   ]
  },
  {
   "cell_type": "code",
   "execution_count": 98,
   "id": "1807a207",
   "metadata": {},
   "outputs": [],
   "source": [
    "def PrepareData(x,y) :\n",
    "    #read image\n",
    "    data = []\n",
    "    with open(x) as filehandle:\n",
    "        lines = filehandle.readlines()\n",
    "        for line in lines:\n",
    "                temp = line[:-1]\n",
    "                data.append(temp)\n",
    "    \n",
    "    for i in range(len(data)):\n",
    "            data[i]=data[i].replace(' ','0')\n",
    "            data[i]=data[i].replace('#','1')\n",
    "            data[i]=data[i].replace('+','1')\n",
    "    df=[]\n",
    "    x=[]\n",
    "    str_data =\"\"\n",
    "    for i in range(len(data)):  \n",
    "        str_data= str_data + data[i]\n",
    "        if  len(str_data) == 784 :\n",
    "            for j in range(len(str_data)):\n",
    "                df.append(int(str_data[j]))\n",
    "            matr= np.reshape(df,(28,28))\n",
    "            x.append(matr)\n",
    "            df=[]\n",
    "            str_data=\"\"\n",
    "    # read label\n",
    "    label = open(y)\n",
    "    temp=label.readlines()\n",
    "    y=[]\n",
    "    for i in range(len(temp)):\n",
    "        y.append(int(temp[i]))\n",
    "    return x,y"
   ]
  },
  {
   "cell_type": "code",
   "execution_count": 99,
   "id": "2d732e7f",
   "metadata": {},
   "outputs": [],
   "source": [
    "x_trn,y_trn=PrepareData(\"trainingimages\",\"traininglabels\")"
   ]
  },
  {
   "cell_type": "code",
   "execution_count": 100,
   "id": "eaeef107",
   "metadata": {},
   "outputs": [],
   "source": [
    "x_tst,y_tst=PrepareData(\"testimages\",\"testlabels\")"
   ]
  },
  {
   "cell_type": "code",
   "execution_count": 101,
   "id": "d9fddbca",
   "metadata": {},
   "outputs": [],
   "source": [
    "def count_elm(m,lm0,lm1):\n",
    "    index=y_trn[m]\n",
    "    for i,j in np.ndindex(x_trn[m].shape):\n",
    "                if x_trn[m][i,j]  == 0 :\n",
    "                     lm0[index][i,j] +=1\n",
    "                else :\n",
    "                    lm1[index][i,j] +=1\n",
    "                    \n",
    "    return lm0,lm1              "
   ]
  },
  {
   "cell_type": "code",
   "execution_count": 102,
   "id": "ad7ffc61",
   "metadata": {},
   "outputs": [],
   "source": [
    "def train() :\n",
    "    count_class=np.array([0,0,0,0,0,0,0,0,0,0])\n",
    "    class_dict = {i:y_trn.count(i) for i in y_trn}\n",
    "    for keys in class_dict.keys():\n",
    "          count_class[keys]=class_dict[keys]\n",
    "    #print(count_class)        \n",
    "    m=0\n",
    "    #create dict\n",
    "    list_matrix0=[]\n",
    "    list_matrix1=[]\n",
    "    for i in range(10):\n",
    "        list_matrix0.append(np.zeros((28,28),dtype='float64'))\n",
    "        list_matrix1.append(np.zeros((28,28),dtype='float64'))\n",
    "    #countf(i,j)    \n",
    "    while m<5000 :\n",
    "        list_matrix0,list_matrix1=count_elm(m,list_matrix0,list_matrix1)\n",
    "        m +=1\n",
    "    #probf(i,j)\n",
    "    for item in range(10):\n",
    "        for i,j in np.ndindex(list_matrix0[item].shape):\n",
    "            #Laplace Smoothing\n",
    "            list_matrix0[item][i,j] = (list_matrix0[item][i,j]+0.001) /(count_class[item]+0.002)\n",
    "    \n",
    "    for item in range(10):\n",
    "        for i,j in np.ndindex(list_matrix1[item].shape):\n",
    "                #list_matrix1[item][i,j] =0.1\n",
    "                list_matrix1[item][i,j] = (list_matrix1[item][i,j]+0.001) /(count_class[item]+0.002)\n",
    "            \n",
    "            \n",
    "    return  list_matrix0 ,list_matrix1,count_class  "
   ]
  },
  {
   "cell_type": "code",
   "execution_count": 103,
   "id": "368e902d",
   "metadata": {},
   "outputs": [],
   "source": [
    "def predict(list_matrix0,list_matrix1,count_class):\n",
    "    pro_class=[]\n",
    "    y_hat=[]\n",
    "    for i in range(10):\n",
    "        pro_class.append(count_class[i]/5000) \n",
    "       \n",
    "    m=0\n",
    "    while m <1000:\n",
    "        y=[]\n",
    "        for item in range(10):\n",
    "            sum_pro=0\n",
    "            \n",
    "            for i,j in np.ndindex(x_tst[m].shape):\n",
    "                if x_tst[m][i,j]==0:\n",
    "                    sum_pro=sum_pro + math.log10(list_matrix0[item][i,j])\n",
    "             \n",
    "                else:\n",
    "                    sum_pro=sum_pro + math.log10(list_matrix1[item][i,j])\n",
    "            sum_pro = sum_pro + math.log10(pro_class[item]) \n",
    "            y.append(sum_pro)\n",
    "        y=np.array(y)    \n",
    "        y_hat.append(y.argmax())\n",
    "        m+=1\n",
    "    return y_hat    "
   ]
  },
  {
   "cell_type": "code",
   "execution_count": 104,
   "id": "3e7ba3ca",
   "metadata": {},
   "outputs": [],
   "source": [
    "def predicttrn(list_matrix0,list_matrix1,count_class):\n",
    "    pro_class=[]\n",
    "    y_hat=[]\n",
    "    for i in range(10):\n",
    "        pro_class.append(count_class[i]/5000) \n",
    "       \n",
    "    m=0\n",
    "    while m <5000:\n",
    "        y=[]\n",
    "        for item in range(10):\n",
    "            sum_pro=0\n",
    "            \n",
    "            for i,j in np.ndindex(x_trn[m].shape):\n",
    "                if x_trn[m][i,j]==0:\n",
    "                    sum_pro=sum_pro + math.log10(list_matrix0[item][i,j])\n",
    "             \n",
    "                else:\n",
    "                    sum_pro=sum_pro + math.log10(list_matrix1[item][i,j])\n",
    "            sum_pro = sum_pro + math.log10(pro_class[item]) \n",
    "            y.append(sum_pro)\n",
    "        y=np.array(y)    \n",
    "        y_hat.append(y.argmax())\n",
    "        m+=1\n",
    "    return y_hat"
   ]
  },
  {
   "cell_type": "code",
   "execution_count": 105,
   "id": "819ec4ca",
   "metadata": {},
   "outputs": [],
   "source": [
    "list_matrix0,list_matrix1,count_class=train()\n"
   ]
  },
  {
   "cell_type": "code",
   "execution_count": 106,
   "id": "ff933f05",
   "metadata": {},
   "outputs": [],
   "source": [
    "y_hat = predict(list_matrix0,list_matrix1,count_class)"
   ]
  },
  {
   "cell_type": "code",
   "execution_count": 107,
   "id": "10a718d6",
   "metadata": {},
   "outputs": [
    {
     "name": "stdout",
     "output_type": "stream",
     "text": [
      "accuracy_test: 0.774\n"
     ]
    }
   ],
   "source": [
    "y_hat=np.array(y_hat)\n",
    "y_tst=np.array(y_tst)\n",
    "accuracy_test = np.sum(y_tst == y_hat)/(1000)\n",
    "print('accuracy_test:',accuracy_test)"
   ]
  },
  {
   "cell_type": "code",
   "execution_count": 108,
   "id": "da84d6c2",
   "metadata": {},
   "outputs": [
    {
     "name": "stdout",
     "output_type": "stream",
     "text": [
      "accuracy_trn: 0.8442\n"
     ]
    }
   ],
   "source": [
    "y_hattrn = predicttrn(list_matrix0,list_matrix1,count_class)\n",
    "y_hattrn=np.array(y_hattrn)\n",
    "y_trn=np.array(y_trn)\n",
    "accuracy_trn = np.sum(y_trn == y_hattrn)/(5000)\n",
    "print('accuracy_trn:',accuracy_trn)"
   ]
  },
  {
   "cell_type": "code",
   "execution_count": 109,
   "id": "75520f76",
   "metadata": {},
   "outputs": [],
   "source": [
    "def confusion_matrix(y,y_hat):\n",
    "    label= [0 ,1, 2 ,3 ,4 ,5 ,6, 7 ,8 ,9]\n",
    "    confusionmatrix= np.zeros((10,10))\n",
    "    for i in range(10):\n",
    "        for j in range(10):\n",
    "            confusionmatrix[i][j] = np.sum((y== label[i]) & (y_hat == label[j]))\n",
    "    return confusionmatrix"
   ]
  },
  {
   "cell_type": "code",
   "execution_count": 110,
   "id": "ad564481",
   "metadata": {},
   "outputs": [
    {
     "data": {
      "text/plain": [
       "array([[ 76.,   0.,   1.,   0.,   1.,   5.,   3.,   0.,   4.,   0.],\n",
       "       [  0., 104.,   1.,   0.,   0.,   2.,   1.,   0.,   0.,   0.],\n",
       "       [  1.,   3.,  81.,   4.,   2.,   0.,   6.,   1.,   5.,   0.],\n",
       "       [  0.,   1.,   0.,  80.,   0.,   3.,   2.,   7.,   1.,   6.],\n",
       "       [  0.,   0.,   1.,   0.,  80.,   1.,   4.,   1.,   2.,  18.],\n",
       "       [  2.,   1.,   1.,  12.,   3.,  63.,   1.,   1.,   2.,   6.],\n",
       "       [  1.,   4.,   5.,   0.,   3.,   6.,  70.,   0.,   2.,   0.],\n",
       "       [  0.,   5.,   4.,   0.,   3.,   0.,   0.,  77.,   3.,  14.],\n",
       "       [  1.,   1.,   3.,  14.,   3.,   8.,   0.,   1.,  62.,  10.],\n",
       "       [  1.,   1.,   0.,   3.,   9.,   2.,   0.,   2.,   1.,  81.]])"
      ]
     },
     "execution_count": 110,
     "metadata": {},
     "output_type": "execute_result"
    }
   ],
   "source": [
    "confusion_matrix=confusion_matrix(y_tst,y_hat)\n",
    "confusion_matrix"
   ]
  },
  {
   "cell_type": "code",
   "execution_count": 120,
   "id": "75da8be5",
   "metadata": {},
   "outputs": [],
   "source": [
    "def precision(label, confusion_matrix):\n",
    "    c = confusion_matrix[:,label]\n",
    "    return confusion_matrix[label, label] / c.sum()\n",
    "    \n",
    "def recall(label, confusion_matrix):\n",
    "    row = confusion_matrix[label, :]\n",
    "    return confusion_matrix[label, label] / row.sum()\n"
   ]
  },
  {
   "cell_type": "code",
   "execution_count": 130,
   "id": "fe4371a0",
   "metadata": {},
   "outputs": [
    {
     "name": "stdout",
     "output_type": "stream",
     "text": [
      "label precision recall    F1\n",
      "    0     0.927  0.844     0.884\n",
      "    1     0.867  0.963     0.912\n",
      "    2     0.835  0.786     0.810\n",
      "    3     0.708  0.800     0.751\n",
      "    4     0.769  0.748     0.758\n",
      "    5     0.700  0.685     0.692\n",
      "    6     0.805  0.769     0.787\n",
      "    7     0.856  0.726     0.786\n",
      "    8     0.756  0.602     0.670\n",
      "    9     0.600  0.810     0.689\n"
     ]
    }
   ],
   "source": [
    "print(\"label precision recall    F1\")\n",
    "for label in range(10):\n",
    "        p=precision(label,confusion_matrix)\n",
    "        r=recall(label,confusion_matrix)\n",
    "        f1 = 2 * (p * r) / (p + r)\n",
    "        print(f\"{label:5d} {p:9.3f} {r:6.3f} {f1:9.3f}\")\n",
    "\n"
   ]
  },
  {
   "cell_type": "code",
   "execution_count": 62,
   "id": "614a1c6a",
   "metadata": {},
   "outputs": [
    {
     "name": "stdout",
     "output_type": "stream",
     "text": [
      "0.774\n",
      "0.7733848945638426\n",
      "0.7821993670032373\n",
      "0.7739639984122183\n"
     ]
    }
   ],
   "source": [
    "from sklearn.metrics import accuracy_score, recall_score, precision_score, f1_score\n",
    "\n",
    "print(accuracy_score(y_tst,y_hat))\n",
    "print(recall_score(y_tst,y_hat, average='macro'))\n",
    "print(precision_score(y_tst,y_hat, average='macro'))\n",
    "print(f1_score(y_tst,y_hat, average='macro'))"
   ]
  },
  {
   "cell_type": "code",
   "execution_count": null,
   "id": "4de8dba5",
   "metadata": {},
   "outputs": [],
   "source": []
  }
 ],
 "metadata": {
  "kernelspec": {
   "display_name": "Python 3 (ipykernel)",
   "language": "python",
   "name": "python3"
  },
  "language_info": {
   "codemirror_mode": {
    "name": "ipython",
    "version": 3
   },
   "file_extension": ".py",
   "mimetype": "text/x-python",
   "name": "python",
   "nbconvert_exporter": "python",
   "pygments_lexer": "ipython3",
   "version": "3.9.5"
  }
 },
 "nbformat": 4,
 "nbformat_minor": 5
}
