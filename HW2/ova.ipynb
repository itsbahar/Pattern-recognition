{
 "cells": [
  {
   "cell_type": "code",
   "execution_count": 82,
   "id": "2144ba5e",
   "metadata": {},
   "outputs": [],
   "source": [
    "import numpy as np\n",
    "import pandas as pd\n",
    "import matplotlib.pyplot as plt\n",
    "import sklearn.model_selection as ms\n",
    "from numpy.linalg import norm\n",
    "import seaborn as sns\n",
    "from math import e\n",
    "import random"
   ]
  },
  {
   "cell_type": "code",
   "execution_count": 83,
   "id": "7db8e85c",
   "metadata": {},
   "outputs": [],
   "source": [
    "def Normalize(x):\n",
    "    x = (x - x.min() ) / (x.max() - x.min())\n",
    "    return x"
   ]
  },
  {
   "cell_type": "code",
   "execution_count": 84,
   "id": "e9922d9c",
   "metadata": {},
   "outputs": [],
   "source": [
    "def Addbias(X):\n",
    "    matrix = X.reshape(X.shape[0], 7)\n",
    "    ones = np.ones((matrix.shape[0],1))\n",
    "    concat=np.concatenate((ones,matrix), axis=1)\n",
    "    return concat "
   ]
  },
  {
   "cell_type": "code",
   "execution_count": 85,
   "id": "4e04b81e",
   "metadata": {},
   "outputs": [],
   "source": [
    "def relabel(y_train):\n",
    "    y_train1=[1 if y==1 else 0 for y in y_train ]\n",
    "    y_train2=[1 if y==2 else 0 for y in y_train ]\n",
    "    y_train3=[1 if y==3 else 0 for y in y_train ]\n",
    "    y_train1 =np.array(y_train1)\n",
    "    y_train2 =np.array(y_train2)\n",
    "    y_train3 =np.array(y_train3)\n",
    "    return y_train1,y_train2,y_train3\n",
    "   \n",
    "    "
   ]
  },
  {
   "cell_type": "code",
   "execution_count": 86,
   "id": "c0f631ef",
   "metadata": {},
   "outputs": [],
   "source": [
    "df=pd.read_excel(\"seed.xlsx\")\n",
    "#df[\"class\"].replace({1: 0., 2: 1., 3: 2.}, inplace=True)\n",
    "x_train,x_test,y_train,y_test= ms.train_test_split(df[[\"x1\",\"x2\",'x3','x4','x5','x6','x7']],df['class'], train_size=0.8)"
   ]
  },
  {
   "cell_type": "code",
   "execution_count": 87,
   "id": "e2d0691b",
   "metadata": {},
   "outputs": [],
   "source": [
    "x_train=Normalize(np.asanyarray(x_train))\n",
    "x_test=Normalize(np.asanyarray(x_test))\n",
    "y_train=np.asanyarray(y_train)\n",
    "y_test=np.asanyarray(y_test)"
   ]
  },
  {
   "cell_type": "code",
   "execution_count": 88,
   "id": "fcfb7587",
   "metadata": {},
   "outputs": [],
   "source": [
    "def sigmoid(x,theta,theta0):\n",
    "    temp=np.dot(x,theta )+theta0\n",
    "    y = 1 / (1 + np.exp(-temp))\n",
    "    return y"
   ]
  },
  {
   "cell_type": "code",
   "execution_count": 89,
   "id": "31aa066a",
   "metadata": {},
   "outputs": [],
   "source": [
    "def cost(y_hat,y,m):\n",
    "    d = -1/m * np.sum(y * np.log(y_hat) + (1 - y) * np.log(1-y_hat))\n",
    "    return d"
   ]
  },
  {
   "cell_type": "code",
   "execution_count": 90,
   "id": "e03a773d",
   "metadata": {},
   "outputs": [],
   "source": [
    "def LogisticRegression(x, y,alpha,itr): \n",
    "    m, n = x.shape\n",
    "    theta=np.random.rand(n)\n",
    "    theta0=0.001\n",
    "    errors= []\n",
    "    for i in range(itr):  \n",
    "        y_hat = sigmoid(x,theta,theta0)\n",
    "        error= cost(y_hat,y,m)\n",
    "        errors.append(error)\n",
    "        theta= theta - alpha*(1/m * np.dot(x.T, (y_hat - y)))\n",
    "        theta0=theta0 - alpha*(1/m * np.sum(y_hat - y))\n",
    "    errors = np.array(errors)    \n",
    "    return theta,theta0,errors"
   ]
  },
  {
   "cell_type": "code",
   "execution_count": 91,
   "id": "a3977a19",
   "metadata": {},
   "outputs": [],
   "source": [
    "def predict(x_test,theta,theta0):\n",
    "    y_hat_test =sigmoid(x_test,theta,theta0)\n",
    "    return y_hat_test"
   ]
  },
  {
   "cell_type": "code",
   "execution_count": 92,
   "id": "d5e37e11",
   "metadata": {},
   "outputs": [],
   "source": [
    "y_train1,y_train2,y_train3=relabel(y_train)"
   ]
  },
  {
   "cell_type": "code",
   "execution_count": 93,
   "id": "9dae6a40",
   "metadata": {},
   "outputs": [],
   "source": [
    "#model1\n",
    "theta_m1,theta0_m1,errors_m1 = LogisticRegression(x_train,y_train1, 0.07,200000)"
   ]
  },
  {
   "cell_type": "code",
   "execution_count": 94,
   "id": "bd642b91",
   "metadata": {},
   "outputs": [],
   "source": [
    "#model2 \n",
    "theta_m2,theta0_m2,errors_m2 = LogisticRegression(x_train,y_train2, 0.07,200000)"
   ]
  },
  {
   "cell_type": "code",
   "execution_count": 95,
   "id": "5b7947ae",
   "metadata": {},
   "outputs": [],
   "source": [
    "#model3\n",
    "theta_m3,theta0_m3,errors_m3 = LogisticRegression(x_train,y_train3, 0.07,200000)"
   ]
  },
  {
   "cell_type": "code",
   "execution_count": 96,
   "id": "db062b91",
   "metadata": {},
   "outputs": [
    {
     "name": "stdout",
     "output_type": "stream",
     "text": [
      "Test accuracy: 0.9761904761904762\n"
     ]
    }
   ],
   "source": [
    "#predictlabel\n",
    "y_hat1=predict(x_test,theta_m1,theta0_m1)\n",
    "y_hat2=predict(x_test,theta_m2,theta0_m2)\n",
    "y_hat3=predict(x_test,theta_m3,theta0_m3)\n",
    "label=[]\n",
    "for i in range(y_hat1.shape[0]):\n",
    "    max_pro=max(y_hat1[i],y_hat2[i],y_hat3[i])\n",
    "    if y_hat1[i]==max_pro and y_hat2[i]==max_pro  :\n",
    "        label.append(random.randint(1,2))\n",
    "        continue\n",
    "    if y_hat2[i]==max_pro and y_hat3[i]==max_pro :\n",
    "        label.append(random.randint(2,3))\n",
    "        continue\n",
    "        \n",
    "    if y_hat1[i]==max_pro and y_hat3[i]==max_pro :\n",
    "        label_t=random.randint(1,3)\n",
    "        while(label_t== 2):\n",
    "            label_t=random.randint(1,3)\n",
    "        label.append(label_t)\n",
    "        continue\n",
    "    if y_hat1[i]==max_pro and y_hat3[i]==max_pro and y_hat2[i]==max_pro : \n",
    "        label.append(random.randint(1,3))\n",
    "        continue\n",
    "    if y_hat1[i]==max_pro :\n",
    "        label.append(1)\n",
    "    if y_hat2[i]==max_pro :\n",
    "        label.append(2)\n",
    "    if y_hat3[i]==max_pro :\n",
    "        label.append(3)\n",
    "        \n",
    "label=np.array(label)\n",
    "accuracy_test = np.sum(y_test == label) / (y_test.shape[0])\n",
    "print('Test accuracy:', accuracy_test)"
   ]
  },
  {
   "cell_type": "code",
   "execution_count": 97,
   "id": "bf5d5dd0",
   "metadata": {},
   "outputs": [
    {
     "name": "stdout",
     "output_type": "stream",
     "text": [
      "Train accuracy: 0.8869047619047619\n"
     ]
    }
   ],
   "source": [
    "y_hat1=predict(x_train,theta_m1,theta0_m1)\n",
    "y_hat2=predict(x_train,theta_m2,theta0_m2)\n",
    "y_hat3=predict(x_train,theta_m3,theta0_m3)\n",
    "label=[]\n",
    "for i in range(y_hat1.shape[0]):\n",
    "    max_pro=max(y_hat1[i],y_hat2[i],y_hat3[i])\n",
    "    if y_hat1[i]==max_pro and y_hat2[i]==max_pro  :\n",
    "        label.append(random.randint(1,2))\n",
    "        continue\n",
    "    if y_hat2[i]==max_pro and y_hat3[i]==max_pro :\n",
    "        label.append(random.randint(2,3))\n",
    "        continue\n",
    "        \n",
    "    if y_hat1[i]==max_pro and y_hat3[i]==max_pro :\n",
    "        label_t=random.randint(1,3)\n",
    "        while(label_t== 2):\n",
    "            label_t=random.randint(1,3)\n",
    "        label.append(label_t)\n",
    "        continue\n",
    "    if y_hat1[i]==max_pro and y_hat3[i]==max_pro and y_hat2[i]==max_pro : \n",
    "        label.append(random.randint(1,3))\n",
    "        continue\n",
    "    if y_hat1[i]==max_pro :\n",
    "        label.append(1)\n",
    "    if y_hat2[i]==max_pro :\n",
    "        label.append(2)\n",
    "    if y_hat3[i]==max_pro :\n",
    "        label.append(3)\n",
    "        \n",
    "label=np.array(label)\n",
    "accuracy_test = np.sum(y_train == label) / (y_train.shape[0])\n",
    "print('Train accuracy:', accuracy_test)"
   ]
  },
  {
   "cell_type": "code",
   "execution_count": 98,
   "id": "bf67eba6",
   "metadata": {},
   "outputs": [
    {
     "data": {
      "image/png": "[encoded data removed]",
      "text/plain": [
       "<Figure size 640x480 with 1 Axes>"
      ]
     },
     "metadata": {},
     "output_type": "display_data"
    }
   ],
   "source": [
    "plt.plot(errors_m1, color='Blue', label='Model 1 v ALL')\n",
    "plt.plot(errors_m2, color='Orange', label='Model 2 v ALL')\n",
    "plt.plot(errors_m3, color='Green', label='Model 3 v ALL')\n",
    "plt.legend(loc='best')\n",
    "plt.show()"
   ]
  },
  {
   "cell_type": "code",
   "execution_count": 109,
   "id": "692e8125",
   "metadata": {},
   "outputs": [],
   "source": [
    "mean_error=[]\n",
    "for i in range(len(errors_m1)):\n",
    "    a,b,c=errors_m1[i],errors_m2[i],errors_m3[i]\n",
    "    cost=a+b+c\n",
    "    cost=cost/3\n",
    "    mean_error.append(cost)\n",
    "mean_error=np.array(mean_error)    \n",
    "    "
   ]
  },
  {
   "cell_type": "code",
   "execution_count": 110,
   "id": "2f3f8df6",
   "metadata": {},
   "outputs": [
    {
     "data": {
      "text/plain": [
       "[<matplotlib.lines.Line2D at 0x23f372f7c70>]"
      ]
     },
     "execution_count": 110,
     "metadata": {},
     "output_type": "execute_result"
    },
    {
     "data": {
      "image/png": "[encoded data removed]",
      "text/plain": [
       "<Figure size 640x480 with 1 Axes>"
      ]
     },
     "metadata": {},
     "output_type": "display_data"
    }
   ],
   "source": [
    "plt.plot(mean_error, color='Blue', label='mean')"
   ]
  },
  {
   "cell_type": "code",
   "execution_count": null,
   "id": "caa9c1c7",
   "metadata": {},
   "outputs": [],
   "source": []
  }
 ],
 "metadata": {
  "kernelspec": {
   "display_name": "Python 3 (ipykernel)",
   "language": "python",
   "name": "python3"
  },
  "language_info": {
   "codemirror_mode": {
    "name": "ipython",
    "version": 3
   },
   "file_extension": ".py",
   "mimetype": "text/x-python",
   "name": "python",
   "nbconvert_exporter": "python",
   "pygments_lexer": "ipython3",
   "version": "3.9.5"
  }
 },
 "nbformat": 4,
 "nbformat_minor": 5
}
