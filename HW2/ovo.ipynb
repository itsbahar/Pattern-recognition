{
 "cells": [
  {
   "cell_type": "code",
   "execution_count": 229,
   "id": "37a68b09",
   "metadata": {},
   "outputs": [],
   "source": [
    "import numpy as np\n",
    "import pandas as pd\n",
    "import matplotlib.pyplot as plt\n",
    "import sklearn.model_selection as ms\n",
    "from numpy.linalg import norm\n",
    "import seaborn as sns\n",
    "from math import e\n",
    "import random"
   ]
  },
  {
   "cell_type": "code",
   "execution_count": 230,
   "id": "c7c5787a",
   "metadata": {},
   "outputs": [],
   "source": [
    "def Normalize(x):\n",
    "    x = (x - x.min() ) / (x.max() - x.min())\n",
    "    return x"
   ]
  },
  {
   "cell_type": "code",
   "execution_count": 231,
   "id": "f92c699d",
   "metadata": {},
   "outputs": [],
   "source": [
    "def sigmoid(x,theta,theta0):\n",
    "    temp=np.dot(x,theta )+theta0\n",
    "    y = 1 / (1 + np.exp(-temp))\n",
    "    return y"
   ]
  },
  {
   "cell_type": "code",
   "execution_count": 232,
   "id": "6108d477",
   "metadata": {},
   "outputs": [],
   "source": [
    "def cost(y_hat,y,m):\n",
    "    d=-1/m * np.sum(y * np.log(y_hat) + (1 - y) * np.log(1-y_hat))\n",
    "    return d"
   ]
  },
  {
   "cell_type": "code",
   "execution_count": 233,
   "id": "25a7871c",
   "metadata": {},
   "outputs": [],
   "source": [
    "def LogisticRegression(x, y,alpha,itr): \n",
    "    m, n = x.shape\n",
    "    theta=np.random.rand(n)\n",
    "    theta0=0\n",
    "    errors= []\n",
    "    for i in range(itr):  \n",
    "        y_hat = sigmoid(x,theta,theta0)\n",
    "        error= cost(y_hat,y,m)\n",
    "        errors.append(error)\n",
    "        theta= theta - alpha*(1/m * np.dot(x.T, (y_hat - y)))\n",
    "        theta0=theta0 - alpha* (1/m * np.sum(y_hat - y))\n",
    "    errors = np.array(errors)    \n",
    "    return theta,theta0,errors"
   ]
  },
  {
   "cell_type": "code",
   "execution_count": 234,
   "id": "3353aaa2",
   "metadata": {},
   "outputs": [],
   "source": [
    "def load_data():\n",
    "    df=pd.read_excel(\"seed.xlsx\")\n",
    "    df[\"class\"].replace({1: 0., 2: 1., 3: 2.}, inplace=True)\n",
    "    df_train,df_test= ms.train_test_split(df, train_size=0.8)\n",
    "    class_1=df_train[df_train['class'] == 0]\n",
    "    class_2=df_train[df_train['class'] == 1]\n",
    "    class_3=df_train[df_train['class'] == 2]\n",
    "    class_1_2=class_1.append(class_2, ignore_index=True)\n",
    "    class_1_3=class_1.append(class_3, ignore_index=True)\n",
    "    class_2_3=class_2.append(class_3, ignore_index=True)\n",
    "    class_1_2_x_trn=class_1_2[[\"x1\",\"x2\",'x3','x4','x5','x6','x7']]\n",
    "    class_1_2_y_trn=class_1_2[[\"class\"]]\n",
    "    class_1_3_x_trn=class_1_3[[\"x1\",\"x2\",'x3','x4','x5','x6','x7']]\n",
    "    class_1_3_y_trn=class_1_3[[\"class\"]]\n",
    "    class_2_3_x_trn=class_2_3[[\"x1\",\"x2\",'x3','x4','x5','x6','x7']]\n",
    "    class_2_3_y_trn=class_2_3[[\"class\"]]\n",
    "    x_tst=df_test[[\"x1\",\"x2\",'x3','x4','x5','x6','x7']]\n",
    "    y_tst=df_test[['class']]\n",
    "    x_trn=df_train[[\"x1\",\"x2\",'x3','x4','x5','x6','x7']]\n",
    "    y_trn=df_train[['class']]\n",
    "    return class_1_2_x_trn,class_1_2_y_trn,class_1_3_x_trn,class_1_3_y_trn,class_2_3_x_trn,class_2_3_y_trn,x_tst,y_tst,x_trn,y_trn\n"
   ]
  },
  {
   "cell_type": "code",
   "execution_count": 235,
   "id": "cfe5c719",
   "metadata": {},
   "outputs": [
    {
     "name": "stderr",
     "output_type": "stream",
     "text": [
      "C:\\Users\\ASUS\\AppData\\Local\\Temp\\ipykernel_11652\\556546255.py:8: FutureWarning: The frame.append method is deprecated and will be removed from pandas in a future version. Use pandas.concat instead.\n",
      "  class_1_2=class_1.append(class_2, ignore_index=True)\n",
      "C:\\Users\\ASUS\\AppData\\Local\\Temp\\ipykernel_11652\\556546255.py:9: FutureWarning: The frame.append method is deprecated and will be removed from pandas in a future version. Use pandas.concat instead.\n",
      "  class_1_3=class_1.append(class_3, ignore_index=True)\n",
      "C:\\Users\\ASUS\\AppData\\Local\\Temp\\ipykernel_11652\\556546255.py:10: FutureWarning: The frame.append method is deprecated and will be removed from pandas in a future version. Use pandas.concat instead.\n",
      "  class_2_3=class_2.append(class_3, ignore_index=True)\n"
     ]
    }
   ],
   "source": [
    "#prepre data\n",
    "class_1_2_x_trn,class_1_2_y_trn,class_1_3_x_trn,class_1_3_y_trn,class_2_3_x_trn,class_2_3_y_trn,x_tst,y_tst,x_trn,y_trn=load_data()\n",
    "class_1_2_x_trn=Normalize(np.asanyarray(class_1_2_x_trn))\n",
    "class_1_3_x_trn=Normalize(np.asanyarray(class_1_3_x_trn))\n",
    "class_2_3_x_trn=Normalize(np.asanyarray(class_2_3_x_trn))\n",
    "x_tst=Normalize(np.asanyarray(x_tst))\n",
    "x_trn=Normalize(np.asanyarray(x_trn))\n",
    "class_1_2_y_trn=np.asanyarray(class_1_2_y_trn)\n",
    "class_1_3_y_trn=np.asanyarray(class_1_3_y_trn)\n",
    "class_2_3_y_trn=np.asanyarray(class_2_3_y_trn)\n",
    "y_tst=np.array(y_tst)\n",
    "y_trn=np.array(y_trn)\n",
    "class_1_2_y_trn=np.array([1 if y==0 else 0 for y in class_1_2_y_trn ])\n",
    "class_1_3_y_trn=np.array([1 if y==0 else 0 for y in class_1_3_y_trn ])\n",
    "class_2_3_y_trn=np.array([1 if y==1 else 0 for y in class_2_3_y_trn ])"
   ]
  },
  {
   "cell_type": "code",
   "execution_count": 236,
   "id": "261297fd",
   "metadata": {},
   "outputs": [],
   "source": [
    "#create model\n",
    "theta_m1,theta0_m1,errors_m1 = LogisticRegression(class_1_2_x_trn,class_1_2_y_trn, 0.07,200000)"
   ]
  },
  {
   "cell_type": "code",
   "execution_count": 237,
   "id": "9c226a0a",
   "metadata": {},
   "outputs": [],
   "source": [
    "theta_m2,theta0_m2,errors_m2 = LogisticRegression(class_1_3_x_trn,class_1_3_y_trn, 0.07,200000)"
   ]
  },
  {
   "cell_type": "code",
   "execution_count": 238,
   "id": "719e3205",
   "metadata": {},
   "outputs": [],
   "source": [
    "theta_m3,theta0_m3,errors_m3 = LogisticRegression(class_2_3_x_trn,class_2_3_y_trn, 0.07,200000)"
   ]
  },
  {
   "cell_type": "code",
   "execution_count": 245,
   "id": "626cb489",
   "metadata": {},
   "outputs": [
    {
     "data": {
      "image/png": "[encoded data removed]",
      "text/plain": [
       "<Figure size 640x480 with 1 Axes>"
      ]
     },
     "metadata": {},
     "output_type": "display_data"
    }
   ],
   "source": [
    "plt.plot(errors_m1, color='Blue', label='Model 1 v 1')\n",
    "plt.plot(errors_m2, color='Orange', label='Model 1 v2 ')\n",
    "plt.plot(errors_m3, color='Green', label='Model 2v 3')\n",
    "plt.legend(loc='best')\n",
    "plt.show()"
   ]
  },
  {
   "cell_type": "code",
   "execution_count": 240,
   "id": "5d7c30b1",
   "metadata": {},
   "outputs": [],
   "source": [
    "def predict(x,y):\n",
    "        y_hat_m1 =sigmoid(x,theta_m1,theta0_m1)\n",
    "        y_hat_m1 =[0 if y<=0.5 else 1 for y in y_hat_m1 ]\n",
    "        y_hat_m2 =sigmoid(x,theta_m2,theta0_m2)\n",
    "        y_hat_m2 =[0 if y<=0.5 else 1 for y in y_hat_m2 ]\n",
    "        y_hat_m3 =sigmoid(x,theta_m3,theta0_m3)\n",
    "        y_hat_m3 =[0 if y<=0.5 else 1 for y in y_hat_m3 ]\n",
    "        y_hat_m1=np.array(y_hat_m1)\n",
    "        y_hat_m2=np.array(y_hat_m2)\n",
    "        y_hat_m3=np.array(y_hat_m3)\n",
    "        label1=np.zeros(y.shape[0])\n",
    "        label2=np.zeros(y.shape[0])\n",
    "        label3=np.zeros(y.shape[0])\n",
    "\n",
    "        for i in range(y.shape[0]):\n",
    "                if y_hat_m1[i]==1:\n",
    "                    label1[i] +=1\n",
    "                else:\n",
    "                    label2[i]+=1\n",
    "        for i in range(y.shape[0]):\n",
    "                if y_hat_m2[i]==1:\n",
    "                    label1[i] +=1\n",
    "                else:\n",
    "                    label3[i]+=1 \n",
    "        for i in range(y.shape[0]):\n",
    "                if y_hat_m3[i]==1:\n",
    "                    label2[i] +=1\n",
    "                else:\n",
    "                    label3[i]+=1\n",
    "                    \n",
    "                    \n",
    "        label1=label1.reshape(y.shape[0],1) \n",
    "        label2=label2.reshape(y.shape[0],1)\n",
    "        label3=label3.reshape(y.shape[0],1)\n",
    "        concat=np.concatenate((label1,label2,label3 ), axis=1)\n",
    "        y_true = np.argmax(concat, axis=1)\n",
    "        y_true=y_true.reshape(y_true.shape[0],1)\n",
    "        accuracy = np.sum(y== y_true) / (y.shape[0])\n",
    "        return accuracy\n",
    "      "
   ]
  },
  {
   "cell_type": "code",
   "execution_count": 241,
   "id": "bf02a341",
   "metadata": {},
   "outputs": [
    {
     "name": "stdout",
     "output_type": "stream",
     "text": [
      "Test accuracy: 0.9047619047619048\n"
     ]
    }
   ],
   "source": [
    "accuracy_test=predict(x_tst,y_tst)\n",
    "print('Test accuracy:',accuracy_test) \n"
   ]
  },
  {
   "cell_type": "code",
   "execution_count": 242,
   "id": "11a831e2",
   "metadata": {},
   "outputs": [
    {
     "name": "stdout",
     "output_type": "stream",
     "text": [
      "Train accuracy: 0.8154761904761905\n"
     ]
    }
   ],
   "source": [
    "accuracy_trn=predict(x_trn,y_trn)\n",
    "print('Train accuracy:',accuracy_trn) "
   ]
  },
  {
   "cell_type": "code",
   "execution_count": 246,
   "id": "cc9eab8a",
   "metadata": {},
   "outputs": [],
   "source": [
    "mean_error=[]\n",
    "for i in range(len(errors_m1)):\n",
    "    a,b,c=errors_m1[i],errors_m2[i],errors_m3[i]\n",
    "    cost=a+b+c\n",
    "    cost=cost/3\n",
    "    mean_error.append(cost)\n",
    "mean_error=np.array(mean_error)"
   ]
  },
  {
   "cell_type": "code",
   "execution_count": 247,
   "id": "59c639c8",
   "metadata": {},
   "outputs": [
    {
     "data": {
      "text/plain": [
       "[<matplotlib.lines.Line2D at 0x22744531340>]"
      ]
     },
     "execution_count": 247,
     "metadata": {},
     "output_type": "execute_result"
    },
    {
     "data": {
      "image/png": "[encoded data removed]",
      "text/plain": [
       "<Figure size 640x480 with 1 Axes>"
      ]
     },
     "metadata": {},
     "output_type": "display_data"
    }
   ],
   "source": [
    "plt.plot(mean_error, color='Blue', label='mean')"
   ]
  },
  {
   "cell_type": "code",
   "execution_count": null,
   "id": "bca6cd52",
   "metadata": {},
   "outputs": [],
   "source": []
  }
 ],
 "metadata": {
  "kernelspec": {
   "display_name": "Python 3 (ipykernel)",
   "language": "python",
   "name": "python3"
  },
  "language_info": {
   "codemirror_mode": {
    "name": "ipython",
    "version": 3
   },
   "file_extension": ".py",
   "mimetype": "text/x-python",
   "name": "python",
   "nbconvert_exporter": "python",
   "pygments_lexer": "ipython3",
   "version": "3.9.5"
  }
 },
 "nbformat": 4,
 "nbformat_minor": 5
}
