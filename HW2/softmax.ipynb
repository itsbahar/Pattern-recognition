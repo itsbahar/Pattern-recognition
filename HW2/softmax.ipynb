{
 "cells": [
  {
   "cell_type": "code",
   "execution_count": 2,
   "id": "b6bcadb5",
   "metadata": {},
   "outputs": [],
   "source": [
    "import numpy as np\n",
    "import pandas as pd\n",
    "import matplotlib.pyplot as plt\n",
    "import sklearn.model_selection as ms\n",
    "from numpy.linalg import norm\n",
    "import seaborn as sns\n",
    "from math import e\n",
    "import random"
   ]
  },
  {
   "cell_type": "code",
   "execution_count": 3,
   "id": "d76499b7",
   "metadata": {},
   "outputs": [],
   "source": [
    "def Normalize(x):\n",
    "    x = (x - x.min() ) / (x.max() - x.min())\n",
    "    return x"
   ]
  },
  {
   "cell_type": "code",
   "execution_count": 4,
   "id": "6acee89e",
   "metadata": {},
   "outputs": [],
   "source": [
    "def softmax(z):\n",
    "    z -= np.max(z)\n",
    "    soft_max = (np.exp(z).T / np.sum(np.exp(z),axis=1)).T\n",
    "    return soft_max"
   ]
  },
  {
   "cell_type": "code",
   "execution_count": 5,
   "id": "be012bc4",
   "metadata": {},
   "outputs": [],
   "source": [
    "def addbias(X):\n",
    "    #matrix = X.reshape(X.shape[0], 1)\n",
    "    ones = np.ones((X.shape[0],1))\n",
    "    concat=np.concatenate((ones,X), axis=1)\n",
    "    return concat"
   ]
  },
  {
   "cell_type": "code",
   "execution_count": 6,
   "id": "c62e05d8",
   "metadata": {},
   "outputs": [],
   "source": [
    "def relabel(y_train):\n",
    "    y_train1=[1 if y==1 else 0 for y in y_train ]\n",
    "    y_train2=[1 if y==2 else 0 for y in y_train ]\n",
    "    y_train3=[1 if y==3 else 0 for y in y_train ]\n",
    "    y_train1 =np.array(y_train1).reshape(y_train.shape[0],1)\n",
    "    y_train2 =np.array(y_train2).reshape(y_train.shape[0],1)\n",
    "    y_train3 =np.array(y_train3).reshape(y_train.shape[0],1)\n",
    "    y=np.concatenate((y_train1, y_train2,y_train3), axis = 1)\n",
    "    return y"
   ]
  },
  {
   "cell_type": "code",
   "execution_count": 7,
   "id": "87d8dc8f",
   "metadata": {},
   "outputs": [],
   "source": [
    "def cost(y_hat,y):\n",
    "    d = -1/y.size * np.sum(y * np.log(y_hat) + (1 - y) * np.log(1-y_hat),axis=0)\n",
    "    return d"
   ]
  },
  {
   "cell_type": "code",
   "execution_count": 8,
   "id": "0b53fb5f",
   "metadata": {},
   "outputs": [],
   "source": [
    "def predict(X,theta):\n",
    "    z = np.dot(X,theta.T)\n",
    "    a=softmax(z)\n",
    "    return  np.argmax(a, axis=1)"
   ]
  },
  {
   "cell_type": "code",
   "execution_count": 9,
   "id": "bc1e5abd",
   "metadata": {},
   "outputs": [],
   "source": [
    "def relabel_data(y):\n",
    "    label = list(set(y))\n",
    "    relabeled_data = np.zeros(len(y)*len(label)).reshape(len(y),len(label))\n",
    "    for i in range(len(label)):\n",
    "        relabeled_data[y==label[i],i] = 1\n",
    "    return relabeled_data"
   ]
  },
  {
   "cell_type": "code",
   "execution_count": 10,
   "id": "de56b923",
   "metadata": {},
   "outputs": [],
   "source": [
    "def LogisticRegression(x, y,alpha,itr): \n",
    "    m, n = x.shape\n",
    "    #theta=np.random.random((3,n))\n",
    "    theta=np.zeros((3,n))\n",
    "    #theta0=np.random.random(3)\n",
    "    errors= []\n",
    "    for i in range(itr):\n",
    "        xw = np.dot(x,theta.T)\n",
    "        y_hat = softmax(xw)\n",
    "        error= cost(y_hat, y)\n",
    "        errors.append(error)\n",
    "        grd=np.dot(x.T, (y_hat - y)) /y.size\n",
    "        theta=theta - alpha * grd.T\n",
    "       \n",
    "        #theta= theta - alpha*((1/y.size * np.dot(x.T, (y_hat - y)))).T    \n",
    "    return theta,errors"
   ]
  },
  {
   "cell_type": "code",
   "execution_count": 11,
   "id": "ab5d5bf7",
   "metadata": {},
   "outputs": [],
   "source": [
    "df=pd.read_excel(\"seed.xlsx\")\n",
    "#df[\"class\"].replace({1: 0., 2: 1., 3: 2.}, inplace=True)\n",
    "x_train,x_test,y_train,y_test= ms.train_test_split(df[[\"x1\",\"x2\",'x3','x4','x5','x6','x7']],df['class'], train_size=0.8)"
   ]
  },
  {
   "cell_type": "code",
   "execution_count": 12,
   "id": "58168084",
   "metadata": {},
   "outputs": [],
   "source": [
    "x_train=(np.asanyarray(x_train))\n",
    "x_test=(np.asanyarray(x_test))\n",
    "x_train, x_test = addbias(x_train),addbias(x_test)\n",
    "#y_train=np.asanyarray(y_train)\n",
    "y_test=relabel(y_test)\n",
    "y_train = relabel(y_train)"
   ]
  },
  {
   "cell_type": "code",
   "execution_count": 13,
   "id": "fe2b2813",
   "metadata": {},
   "outputs": [],
   "source": [
    "theta,errors = LogisticRegression(x_train,y_train, 0.07,200000)"
   ]
  },
  {
   "cell_type": "code",
   "execution_count": 14,
   "id": "484abc25",
   "metadata": {},
   "outputs": [
    {
     "data": {
      "text/plain": [
       "0.9821428571428571"
      ]
     },
     "execution_count": 14,
     "metadata": {},
     "output_type": "execute_result"
    }
   ],
   "source": [
    "y_hat=predict(x_train,theta)\n",
    "y_train1 = np.argmax(y_train, axis=1)\n",
    "train_ac=np.sum(y_train1==y_hat)/len(y_train1)\n",
    "train_ac"
   ]
  },
  {
   "cell_type": "code",
   "execution_count": 15,
   "id": "c80095f7",
   "metadata": {},
   "outputs": [
    {
     "data": {
      "text/plain": [
       "0.9285714285714286"
      ]
     },
     "execution_count": 15,
     "metadata": {},
     "output_type": "execute_result"
    }
   ],
   "source": [
    "y_hat=predict(x_test,theta)\n",
    "y_test1 = np.argmax(y_test, axis=1)\n",
    "test_ac=np.sum(y_test1==y_hat)/len(y_test1)\n",
    "test_ac"
   ]
  },
  {
   "cell_type": "code",
   "execution_count": 16,
   "id": "014d87dc",
   "metadata": {},
   "outputs": [
    {
     "data": {
      "image/png": "[encoded data removed]",
      "text/plain": [
       "<Figure size 640x480 with 1 Axes>"
      ]
     },
     "metadata": {},
     "output_type": "display_data"
    }
   ],
   "source": [
    "\n",
    "errors = np.array(errors)\n",
    "plt.plot(list(range(len(errors))), errors[:,0], color='Blue', label='Model 1 v ALL')\n",
    "plt.plot(list(range(len(errors))), errors[:,1], color='Orange', label='Model 2 v ALL')\n",
    "plt.plot(list(range(len(errors))), errors[:,2], color='Green', label='Model 3 v ALL')\n",
    "plt.legend(loc='best')\n",
    "plt.show()"
   ]
  },
  {
   "cell_type": "code",
   "execution_count": null,
   "id": "ef77ec50",
   "metadata": {},
   "outputs": [],
   "source": []
  }
 ],
 "metadata": {
  "kernelspec": {
   "display_name": "Python 3 (ipykernel)",
   "language": "python",
   "name": "python3"
  },
  "language_info": {
   "codemirror_mode": {
    "name": "ipython",
    "version": 3
   },
   "file_extension": ".py",
   "mimetype": "text/x-python",
   "name": "python",
   "nbconvert_exporter": "python",
   "pygments_lexer": "ipython3",
   "version": "3.9.5"
  }
 },
 "nbformat": 4,
 "nbformat_minor": 5
}
